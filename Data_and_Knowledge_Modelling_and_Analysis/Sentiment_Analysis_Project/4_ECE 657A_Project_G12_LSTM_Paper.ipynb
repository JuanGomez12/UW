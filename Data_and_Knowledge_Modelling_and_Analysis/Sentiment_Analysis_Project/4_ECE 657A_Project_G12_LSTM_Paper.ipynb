{
 "cells": [
  {
   "cell_type": "code",
   "execution_count": 70,
   "metadata": {},
   "outputs": [],
   "source": [
    "import pandas as pd\n",
    "import seaborn as sns\n",
    "import numpy as np\n",
    "import matplotlib.pyplot as plt\n",
    "sns.set(style=\"whitegrid\")\n",
    "import os\n",
    "import html\n",
    "# from wordcloud import WordCloud, STOPWORDS, ImageColorGenerator\n",
    "import nltk\n",
    "from sklearn.preprocessing import LabelEncoder"
   ]
  },
  {
   "cell_type": "code",
   "execution_count": 71,
   "metadata": {},
   "outputs": [
    {
     "name": "stderr",
     "output_type": "stream",
     "text": [
      "[nltk_data] Downloading package stopwords to C:\\Users\\Juan\n",
      "[nltk_data]     Ma\\UWaterloo\\ECE 657A\\Project\\data\\nltk...\n",
      "[nltk_data]   Package stopwords is already up-to-date!\n",
      "[nltk_data] Downloading package punkt to C:\\Users\\Juan\n",
      "[nltk_data]     Ma\\UWaterloo\\ECE 657A\\Project\\data\\nltk...\n",
      "[nltk_data]   Package punkt is already up-to-date!\n",
      "[nltk_data] Downloading package vader_lexicon to C:\\Users\\Juan\n",
      "[nltk_data]     Ma\\UWaterloo\\ECE 657A\\Project\\data\\nltk...\n",
      "[nltk_data]   Package vader_lexicon is already up-to-date!\n"
     ]
    }
   ],
   "source": [
    "dir_path = os.getcwd()\n",
    "data_dir = os.path.join(dir_path, 'data')\n",
    "nltk_data_dir= os.path.join(data_dir, 'nltk')\n",
    "\n",
    "nltk.download('stopwords', download_dir=nltk_data_dir)\n",
    "nltk.download('punkt', download_dir=nltk_data_dir)\n",
    "nltk.download('vader_lexicon', download_dir=nltk_data_dir)\n",
    "\n",
    "num_epochs=20\n",
    "##--Disabling the warnings for better notebook visibility\n",
    "import warnings\n",
    "warnings.simplefilter('ignore')\n",
    "\n",
    "SMALL_SIZE = 16\n",
    "MEDIUM_SIZE = 18\n",
    "BIGGER_SIZE = 23\n",
    "\n",
    "#Flags and values\n",
    "imbalanced_flag=False\n",
    "neutral_lower_limit=4\n",
    "neutral_upper_limit=7\n",
    "\n",
    "plt.rc('font', size=SMALL_SIZE)          # controls default text sizes\n",
    "plt.rc('axes', titlesize=BIGGER_SIZE)     # fontsize of the axes title\n",
    "plt.rc('axes', labelsize=BIGGER_SIZE)    # fontsize of the x and y labels\n",
    "plt.rc('xtick', labelsize=SMALL_SIZE)    # fontsize of the tick labels\n",
    "plt.rc('ytick', labelsize=SMALL_SIZE)    # fontsize of the tick labels\n",
    "plt.rc('legend', fontsize=MEDIUM_SIZE)    # legend fontsize\n",
    "plt.rc('figure', titlesize=BIGGER_SIZE)  # fontsize of the figure title"
   ]
  },
  {
   "cell_type": "markdown",
   "metadata": {},
   "source": [
    "When looking at the data, it can be seen that it is given as two datasets, one for train and one for test. It is better to merge them together and do the train-test split after they have been preprocessed. The datasets include the index for the file, which can be used for this work. The reviews column includes strings that are wrapped with a double quote, which do not allow for the replacement of the apostrophe in the Preprocessing step further below. Therefore, it is considered a good idea to remove them during the load of the dataset."
   ]
  },
  {
   "cell_type": "code",
   "execution_count": 72,
   "metadata": {
    "scrolled": false
   },
   "outputs": [],
   "source": [
    "#Load data\n",
    "rm_quote = lambda x: x.replace('\"', '')\n",
    "df_drugs_train = pd.read_csv(os.path.join(data_dir, 'drugsComTrain_raw.tsv'), sep='\\t', index_col=0, converters={'review': rm_quote})\n",
    "df_drugs_train = df_drugs_train.reset_index(drop=True)\n",
    "\n",
    "df_drugs_test = pd.read_csv(os.path.join(data_dir, 'drugsComTest_raw.tsv'), sep='\\t', index_col=0, converters={'review': rm_quote})\n",
    "df_drugs_test = df_drugs_test.reset_index(drop=True)"
   ]
  },
  {
   "cell_type": "markdown",
   "metadata": {},
   "source": [
    "# Preprocessing"
   ]
  },
  {
   "cell_type": "code",
   "execution_count": 75,
   "metadata": {},
   "outputs": [
    {
     "name": "stdout",
     "output_type": "stream",
     "text": [
      "lbs lost in . months using saxenda (dose between .-.) & following doctor's guidelines for eating.  Did not exercise during the months. I was losing except for physical therapy x a week for back.  I am at a good weight for me ('\", , age ) and have been maintaining within -lbs for about  mos. now but still using saxenda.  Have not been super strict with diet but not going crazy either.  Added light weight training and walking on treadmill - days a week right before Christmas.  If I overeat a day or  I go back to watching and the weight comes right back down.  Thankfully husband's insurance covers drug because mine does not.  Feel great, cholesterol & blood pressure good again, back is better, and clothes fit.\n"
     ]
    }
   ],
   "source": [
    "#Contractions removal, based on https://stackoverflow.com/a/47091490\n",
    "import re   \n",
    "def decontracted(phrase):\n",
    "    # specific\n",
    "    phrase = re.sub(\"\\d+\", \"\", phrase) #Deletes all digits\n",
    "    phrase = re.sub(r\"won\\'t\", \"will not\", phrase)\n",
    "    phrase = re.sub(r\"can\\'t\", \"can not\", phrase)\n",
    "\n",
    "    # general\n",
    "    phrase = re.sub(r\"n\\'t\", \" not\", phrase)\n",
    "    phrase = re.sub(r\"\\'re\", \" are\", phrase)\n",
    "    phrase = re.sub(r\"\\'d\", \" would\", phrase)\n",
    "    phrase = re.sub(r\"\\'ll\", \" will\", phrase)\n",
    "    phrase = re.sub(r\"\\'t\", \" not\", phrase)\n",
    "    phrase = re.sub(r\"\\'ve\", \" have\", phrase)\n",
    "    phrase = re.sub(r\"\\'m\", \" am\", phrase)\n",
    "    \n",
    "    return phrase\n",
    "\n",
    "unescaper = lambda x: decontracted(html.unescape(x))\n",
    "df_drugs_train['review']=df_drugs_train['review'].apply(unescaper)\n",
    "df_drugs_test['review']=df_drugs_test['review'].apply(unescaper)"
   ]
  },
  {
   "cell_type": "code",
   "execution_count": 76,
   "metadata": {
    "scrolled": true
   },
   "outputs": [
    {
     "data": {
      "text/html": [
       "<div>\n",
       "<style scoped>\n",
       "    .dataframe tbody tr th:only-of-type {\n",
       "        vertical-align: middle;\n",
       "    }\n",
       "\n",
       "    .dataframe tbody tr th {\n",
       "        vertical-align: top;\n",
       "    }\n",
       "\n",
       "    .dataframe thead th {\n",
       "        text-align: right;\n",
       "    }\n",
       "</style>\n",
       "<table border=\"1\" class=\"dataframe\">\n",
       "  <thead>\n",
       "    <tr style=\"text-align: right;\">\n",
       "      <th></th>\n",
       "      <th>drugName</th>\n",
       "      <th>condition</th>\n",
       "      <th>review</th>\n",
       "      <th>rating</th>\n",
       "      <th>date</th>\n",
       "      <th>usefulCount</th>\n",
       "      <th>rating_label</th>\n",
       "    </tr>\n",
       "  </thead>\n",
       "  <tbody>\n",
       "    <tr>\n",
       "      <th>0</th>\n",
       "      <td>Valsartan</td>\n",
       "      <td>Left Ventricular Dysfunction</td>\n",
       "      <td>It has no side effect, I take it in combinatio...</td>\n",
       "      <td>9.0</td>\n",
       "      <td>May 20, 2012</td>\n",
       "      <td>27</td>\n",
       "      <td>Positive</td>\n",
       "    </tr>\n",
       "    <tr>\n",
       "      <th>1</th>\n",
       "      <td>Guanfacine</td>\n",
       "      <td>ADHD</td>\n",
       "      <td>My son is halfway through his fourth week of I...</td>\n",
       "      <td>8.0</td>\n",
       "      <td>April 27, 2010</td>\n",
       "      <td>192</td>\n",
       "      <td>Positive</td>\n",
       "    </tr>\n",
       "    <tr>\n",
       "      <th>2</th>\n",
       "      <td>Lybrel</td>\n",
       "      <td>Birth Control</td>\n",
       "      <td>I used to take another oral contraceptive, whi...</td>\n",
       "      <td>5.0</td>\n",
       "      <td>December 14, 2009</td>\n",
       "      <td>17</td>\n",
       "      <td>Neutral</td>\n",
       "    </tr>\n",
       "    <tr>\n",
       "      <th>3</th>\n",
       "      <td>Ortho Evra</td>\n",
       "      <td>Birth Control</td>\n",
       "      <td>This is my first time using any form of birth ...</td>\n",
       "      <td>8.0</td>\n",
       "      <td>November 3, 2015</td>\n",
       "      <td>10</td>\n",
       "      <td>Positive</td>\n",
       "    </tr>\n",
       "    <tr>\n",
       "      <th>4</th>\n",
       "      <td>Buprenorphine / naloxone</td>\n",
       "      <td>Opiate Dependence</td>\n",
       "      <td>Suboxone has completely turned my life around....</td>\n",
       "      <td>9.0</td>\n",
       "      <td>November 27, 2016</td>\n",
       "      <td>37</td>\n",
       "      <td>Positive</td>\n",
       "    </tr>\n",
       "    <tr>\n",
       "      <th>5</th>\n",
       "      <td>Cialis</td>\n",
       "      <td>Benign Prostatic Hyperplasia</td>\n",
       "      <td>nd day on mg started to work with rock hard er...</td>\n",
       "      <td>2.0</td>\n",
       "      <td>November 28, 2015</td>\n",
       "      <td>43</td>\n",
       "      <td>Negative</td>\n",
       "    </tr>\n",
       "    <tr>\n",
       "      <th>6</th>\n",
       "      <td>Levonorgestrel</td>\n",
       "      <td>Emergency Contraception</td>\n",
       "      <td>He pulled out, but he cummed a bit in me. I to...</td>\n",
       "      <td>1.0</td>\n",
       "      <td>March 7, 2017</td>\n",
       "      <td>5</td>\n",
       "      <td>Negative</td>\n",
       "    </tr>\n",
       "    <tr>\n",
       "      <th>7</th>\n",
       "      <td>Aripiprazole</td>\n",
       "      <td>Bipolar Disorde</td>\n",
       "      <td>Abilify changed my life. There is hope. I was ...</td>\n",
       "      <td>10.0</td>\n",
       "      <td>March 14, 2015</td>\n",
       "      <td>32</td>\n",
       "      <td>Positive</td>\n",
       "    </tr>\n",
       "    <tr>\n",
       "      <th>8</th>\n",
       "      <td>Keppra</td>\n",
       "      <td>Epilepsy</td>\n",
       "      <td>I Ve had  nothing but problems with the Keppe...</td>\n",
       "      <td>1.0</td>\n",
       "      <td>August 9, 2016</td>\n",
       "      <td>11</td>\n",
       "      <td>Negative</td>\n",
       "    </tr>\n",
       "    <tr>\n",
       "      <th>9</th>\n",
       "      <td>Ethinyl estradiol / levonorgestrel</td>\n",
       "      <td>Birth Control</td>\n",
       "      <td>I had been on the pill for many years. When my...</td>\n",
       "      <td>8.0</td>\n",
       "      <td>December 8, 2016</td>\n",
       "      <td>1</td>\n",
       "      <td>Positive</td>\n",
       "    </tr>\n",
       "  </tbody>\n",
       "</table>\n",
       "</div>"
      ],
      "text/plain": [
       "                             drugName                     condition  \\\n",
       "0                           Valsartan  Left Ventricular Dysfunction   \n",
       "1                          Guanfacine                          ADHD   \n",
       "2                              Lybrel                 Birth Control   \n",
       "3                          Ortho Evra                 Birth Control   \n",
       "4            Buprenorphine / naloxone             Opiate Dependence   \n",
       "5                              Cialis  Benign Prostatic Hyperplasia   \n",
       "6                      Levonorgestrel       Emergency Contraception   \n",
       "7                        Aripiprazole               Bipolar Disorde   \n",
       "8                              Keppra                      Epilepsy   \n",
       "9  Ethinyl estradiol / levonorgestrel                 Birth Control   \n",
       "\n",
       "                                              review  rating  \\\n",
       "0  It has no side effect, I take it in combinatio...     9.0   \n",
       "1  My son is halfway through his fourth week of I...     8.0   \n",
       "2  I used to take another oral contraceptive, whi...     5.0   \n",
       "3  This is my first time using any form of birth ...     8.0   \n",
       "4  Suboxone has completely turned my life around....     9.0   \n",
       "5  nd day on mg started to work with rock hard er...     2.0   \n",
       "6  He pulled out, but he cummed a bit in me. I to...     1.0   \n",
       "7  Abilify changed my life. There is hope. I was ...    10.0   \n",
       "8   I Ve had  nothing but problems with the Keppe...     1.0   \n",
       "9  I had been on the pill for many years. When my...     8.0   \n",
       "\n",
       "                date  usefulCount rating_label  \n",
       "0       May 20, 2012           27     Positive  \n",
       "1     April 27, 2010          192     Positive  \n",
       "2  December 14, 2009           17      Neutral  \n",
       "3   November 3, 2015           10     Positive  \n",
       "4  November 27, 2016           37     Positive  \n",
       "5  November 28, 2015           43     Negative  \n",
       "6      March 7, 2017            5     Negative  \n",
       "7     March 14, 2015           32     Positive  \n",
       "8     August 9, 2016           11     Negative  \n",
       "9   December 8, 2016            1     Positive  "
      ]
     },
     "execution_count": 76,
     "metadata": {},
     "output_type": "execute_result"
    }
   ],
   "source": [
    "#Rating labeling\n",
    "def rating_labeler(val):\n",
    "    if val>neutral_lower_limit:\n",
    "        if val<neutral_upper_limit:\n",
    "            lbl=\"Neutral\"\n",
    "        else:\n",
    "            lbl=\"Positive\"\n",
    "    else:\n",
    "        lbl=\"Negative\"\n",
    "    return lbl\n",
    "\n",
    "df_drugs_train_labeled= df_drugs_train.copy()\n",
    "df_drugs_train_labeled['rating_label'] = df_drugs_train_labeled['rating'].apply(lambda row: rating_labeler(row))\n",
    "\n",
    "df_drugs_test_labeled= df_drugs_test.copy()\n",
    "df_drugs_test_labeled['rating_label'] = df_drugs_test_labeled['rating'].apply(lambda row: rating_labeler(row))"
   ]
  },
  {
   "cell_type": "code",
   "execution_count": 86,
   "metadata": {},
   "outputs": [],
   "source": [
    "from sklearn.model_selection import train_test_split\n",
    "from sklearn.model_selection import cross_val_score"
   ]
  },
  {
   "cell_type": "markdown",
   "metadata": {},
   "source": [
    "# CNN without GloVe Embedding"
   ]
  },
  {
   "cell_type": "code",
   "execution_count": 88,
   "metadata": {},
   "outputs": [],
   "source": [
    "#Train test without tokenization\n",
    "from nltk.corpus import stopwords\n",
    "from sklearn.preprocessing import LabelEncoder\n",
    "from keras.utils import np_utils\n",
    "\n",
    "stp_words=stopwords.words('english')\n",
    "def stopword_removal(text, words):\n",
    "    \"\"\"\n",
    "    :param title: string you want to split.\n",
    "    :param words: list of words you are looking to match.\n",
    "    :param randoms: list of random words to replace with words.\n",
    "    :return: new title\n",
    "    \"\"\"\n",
    "    text=text.lower()\n",
    "    text=' '.join(['' if word in words else word \n",
    "                    for word in text.split()])\n",
    "    text=re.sub(' +', ' ', text)\n",
    "    text=text.lstrip()\n",
    "    return text\n",
    "\n",
    "stp_word = lambda x: stopword_removal(x, stp_words)\n",
    "\n",
    "df_drugs_train_labeled['review'] = df_drugs_train_labeled['review'].str.lower()\n",
    "df_drugs_train_labeled['review'] = df_drugs_train_labeled['review'].apply(stp_word)\n",
    "df_drugs_train_labeled['review'] = df_drugs_train_labeled['review'].str.strip()\n",
    "\n",
    "df_drugs_test_labeled['review'] = df_drugs_test_labeled['review'].str.lower()\n",
    "df_drugs_test_labeled['review'] = df_drugs_test_labeled['review'].apply(stp_word)\n",
    "df_drugs_test_labeled['review'] = df_drugs_test_labeled['review'].str.strip()\n",
    "\n",
    "\n",
    "X_train = df_drugs_train_labeled['review']\n",
    "X_test = df_drugs_test_labeled['review']\n",
    "\n",
    "y_train = df_drugs_train_labeled['rating_label']\n",
    "y_test = df_drugs_test_labeled['rating_label']\n",
    "\n",
    "\n",
    "# encode class values as integers\n",
    "encoder = LabelEncoder()\n",
    "y_train_enc = encoder.fit_transform(y_train)\n",
    "y_test_enc = encoder.transform(y_test)\n",
    "# convert integers to dummy variables (i.e. one hot encoded)\n",
    "y_train_dummy = np_utils.to_categorical(y_train_enc)\n",
    "y_test_dummy = np_utils.to_categorical(y_test_enc)\n",
    "\n",
    "X_train, X_val, y_train_dummy, y_val_dummy = train_test_split(X_train, y_train_dummy, test_size=0.2,\n",
    "                                                  random_state=1, stratify = df_drugs_train_labeled['rating_label'])"
   ]
  },
  {
   "cell_type": "code",
   "execution_count": 89,
   "metadata": {},
   "outputs": [],
   "source": [
    "#Tokenization and sequencing\n",
    "from keras.preprocessing.text import Tokenizer\n",
    "from keras.preprocessing.sequence import pad_sequences\n",
    "\n",
    "tokenizer = Tokenizer(num_words=10000)\n",
    "tokenizer.fit_on_texts(X_train)\n",
    "\n",
    "sequences = tokenizer.texts_to_sequences(X_train)\n",
    "\n",
    "#----------------------\n",
    "length = []\n",
    "for x in X_train:\n",
    "    length.append(len(x.split()))\n",
    "mxlen = max(length)\n",
    "#----------------------\n",
    "X_train_seq = pad_sequences(sequences, maxlen=mxlen)\n",
    "#----------------------\n",
    "sequences_val = tokenizer.texts_to_sequences(X_val)\n",
    "X_val_seq = pad_sequences(sequences_val, maxlen=mxlen)\n",
    "#----------------------\n",
    "sequences_test = tokenizer.texts_to_sequences(X_test)\n",
    "X_test_seq = pad_sequences(sequences_test, maxlen=mxlen)"
   ]
  },
  {
   "cell_type": "code",
   "execution_count": 91,
   "metadata": {},
   "outputs": [
    {
     "name": "stdout",
     "output_type": "stream",
     "text": [
      "_________________________________________________________________\n",
      "Layer (type)                 Output Shape              Param #   \n",
      "=================================================================\n",
      "input_2 (InputLayer)         (None, 1000)              0         \n",
      "_________________________________________________________________\n",
      "embedding_2 (Embedding)      (None, 1000, 200)         2000000   \n",
      "_________________________________________________________________\n",
      "cu_dnnlstm_3 (CuDNNLSTM)     (None, 1000, 200)         321600    \n",
      "_________________________________________________________________\n",
      "cu_dnnlstm_4 (CuDNNLSTM)     (None, 200)               321600    \n",
      "_________________________________________________________________\n",
      "dropout_2 (Dropout)          (None, 200)               0         \n",
      "_________________________________________________________________\n",
      "dense_2 (Dense)              (None, 3)                 603       \n",
      "=================================================================\n",
      "Total params: 2,643,803\n",
      "Trainable params: 2,643,803\n",
      "Non-trainable params: 0\n",
      "_________________________________________________________________\n"
     ]
    }
   ],
   "source": [
    "#Model creation, based on [1]:\n",
    "from keras.models import Sequential\n",
    "from keras.layers import Dense, Dropout\n",
    "from keras.layers import Flatten\n",
    "from keras.layers.embeddings import Embedding\n",
    "from keras.layers import Conv1D, GlobalMaxPooling1D\n",
    "#----------------------\n",
    "from keras.layers import Input, Dense, concatenate, Activation, LSTM, CuDNNLSTM\n",
    "from keras.models import Model\n",
    "from keras.metrics import top_k_categorical_accuracy\n",
    "\n",
    "drugs_input = Input(shape=(mxlen,), dtype='int32')\n",
    "\n",
    "drugs_encoder = Embedding(10000, 200, input_length=mxlen)(drugs_input)\n",
    "drugs_lstm=(CuDNNLSTM(200, return_sequences=True))(drugs_encoder)\n",
    "drugs_lstm=(CuDNNLSTM(200))(drugs_lstm)\n",
    "drugs_lstm=(Dropout(0.5))(drugs_lstm)\n",
    "output = (Dense(3, activation='softmax'))(drugs_lstm)\n",
    "model = Model(inputs=[drugs_input], outputs=[output])\n",
    "\n",
    "\n",
    "model.compile(loss='categorical_crossentropy',\n",
    "                  optimizer='adam',\n",
    "                  metrics=['categorical_crossentropy', 'accuracy'])\n",
    "model.summary()\n",
    "\n",
    "from keras.utils import plot_model\n",
    "plot_model(model, to_file='fig_LSTM_Paper_Model.png')"
   ]
  },
  {
   "cell_type": "code",
   "execution_count": 62,
   "metadata": {
    "scrolled": true
   },
   "outputs": [
    {
     "name": "stdout",
     "output_type": "stream",
     "text": [
      "Train on 129037 samples, validate on 32260 samples\n",
      "Epoch 1/20\n",
      "129037/129037 [==============================] - 604s 5ms/step - loss: 0.4396 - categorical_crossentropy: 0.4396 - acc: 0.8365 - val_loss: 0.4914 - val_categorical_crossentropy: 0.4914 - val_acc: 0.8163\n",
      "\n",
      "Epoch 00001: val_acc improved from -inf to 0.81627, saving model to LSTM_Multi_Paper_best_weights_SW_NoEmb.01-0.8163.hdf5\n",
      "Epoch 2/20\n",
      "129037/129037 [==============================] - 607s 5ms/step - loss: 0.3287 - categorical_crossentropy: 0.3287 - acc: 0.8805 - val_loss: 0.4774 - val_categorical_crossentropy: 0.4774 - val_acc: 0.8296\n",
      "\n",
      "Epoch 00002: val_acc improved from 0.81627 to 0.82960, saving model to LSTM_Multi_Paper_best_weights_SW_NoEmb.02-0.8296.hdf5\n",
      "Epoch 3/20\n",
      "129037/129037 [==============================] - 613s 5ms/step - loss: 0.2380 - categorical_crossentropy: 0.2380 - acc: 0.9156 - val_loss: 0.5088 - val_categorical_crossentropy: 0.5088 - val_acc: 0.8378\n",
      "\n",
      "Epoch 00003: val_acc improved from 0.82960 to 0.83779, saving model to LSTM_Multi_Paper_best_weights_SW_NoEmb.03-0.8378.hdf5\n",
      "Epoch 4/20\n",
      "129037/129037 [==============================] - 610s 5ms/step - loss: 0.1704 - categorical_crossentropy: 0.1704 - acc: 0.9408 - val_loss: 0.5705 - val_categorical_crossentropy: 0.5705 - val_acc: 0.8405\n",
      "\n",
      "Epoch 00004: val_acc improved from 0.83779 to 0.84051, saving model to LSTM_Multi_Paper_best_weights_SW_NoEmb.04-0.8405.hdf5\n",
      "Epoch 5/20\n",
      "129037/129037 [==============================] - 608s 5ms/step - loss: 0.1226 - categorical_crossentropy: 0.1226 - acc: 0.9579 - val_loss: 0.6238 - val_categorical_crossentropy: 0.6238 - val_acc: 0.8485\n",
      "\n",
      "Epoch 00005: val_acc improved from 0.84051 to 0.84845, saving model to LSTM_Multi_Paper_best_weights_SW_NoEmb.05-0.8485.hdf5\n",
      "Epoch 6/20\n",
      "129037/129037 [==============================] - 614s 5ms/step - loss: 0.0890 - categorical_crossentropy: 0.0890 - acc: 0.9701 - val_loss: 0.6676 - val_categorical_crossentropy: 0.6676 - val_acc: 0.8443\n",
      "\n",
      "Epoch 00006: val_acc did not improve from 0.84845\n",
      "Epoch 7/20\n",
      "129037/129037 [==============================] - 605s 5ms/step - loss: 0.0663 - categorical_crossentropy: 0.0663 - acc: 0.9779 - val_loss: 0.7460 - val_categorical_crossentropy: 0.7460 - val_acc: 0.8536\n",
      "\n",
      "Epoch 00007: val_acc improved from 0.84845 to 0.85363, saving model to LSTM_Multi_Paper_best_weights_SW_NoEmb.07-0.8536.hdf5\n",
      "Epoch 8/20\n",
      "129037/129037 [==============================] - 605s 5ms/step - loss: 0.0481 - categorical_crossentropy: 0.0481 - acc: 0.9844 - val_loss: 0.8156 - val_categorical_crossentropy: 0.8156 - val_acc: 0.8385\n",
      "\n",
      "Epoch 00008: val_acc did not improve from 0.85363\n",
      "Epoch 9/20\n",
      "129037/129037 [==============================] - 606s 5ms/step - loss: 0.0377 - categorical_crossentropy: 0.0377 - acc: 0.9876 - val_loss: 0.8415 - val_categorical_crossentropy: 0.8415 - val_acc: 0.8554\n",
      "\n",
      "Epoch 00009: val_acc improved from 0.85363 to 0.85542, saving model to LSTM_Multi_Paper_best_weights_SW_NoEmb.09-0.8554.hdf5\n",
      "Epoch 10/20\n",
      "129037/129037 [==============================] - 605s 5ms/step - loss: 0.0304 - categorical_crossentropy: 0.0304 - acc: 0.9902 - val_loss: 0.9717 - val_categorical_crossentropy: 0.9717 - val_acc: 0.8526\n",
      "\n",
      "Epoch 00010: val_acc did not improve from 0.85542\n",
      "Epoch 11/20\n",
      "129037/129037 [==============================] - 606s 5ms/step - loss: 0.0256 - categorical_crossentropy: 0.0256 - acc: 0.9916 - val_loss: 0.8967 - val_categorical_crossentropy: 0.8967 - val_acc: 0.8556\n",
      "\n",
      "Epoch 00011: val_acc improved from 0.85542 to 0.85564, saving model to LSTM_Multi_Paper_best_weights_SW_NoEmb.11-0.8556.hdf5\n",
      "Epoch 12/20\n",
      "129037/129037 [==============================] - 604s 5ms/step - loss: 0.0218 - categorical_crossentropy: 0.0218 - acc: 0.9930 - val_loss: 0.9199 - val_categorical_crossentropy: 0.9199 - val_acc: 0.8566\n",
      "\n",
      "Epoch 00012: val_acc improved from 0.85564 to 0.85657, saving model to LSTM_Multi_Paper_best_weights_SW_NoEmb.12-0.8566.hdf5\n",
      "Epoch 13/20\n",
      "129037/129037 [==============================] - 606s 5ms/step - loss: 0.0193 - categorical_crossentropy: 0.0193 - acc: 0.9939 - val_loss: 0.9684 - val_categorical_crossentropy: 0.9684 - val_acc: 0.8548\n",
      "\n",
      "Epoch 00013: val_acc did not improve from 0.85657\n",
      "Epoch 14/20\n",
      "129037/129037 [==============================] - 610s 5ms/step - loss: 0.0186 - categorical_crossentropy: 0.0186 - acc: 0.9943 - val_loss: 0.9869 - val_categorical_crossentropy: 0.9869 - val_acc: 0.8581\n",
      "\n",
      "Epoch 00014: val_acc improved from 0.85657 to 0.85809, saving model to LSTM_Multi_Paper_best_weights_SW_NoEmb.14-0.8581.hdf5\n",
      "Epoch 15/20\n",
      "129037/129037 [==============================] - 608s 5ms/step - loss: 0.0162 - categorical_crossentropy: 0.0162 - acc: 0.9948 - val_loss: 0.9783 - val_categorical_crossentropy: 0.9783 - val_acc: 0.8548\n",
      "\n",
      "Epoch 00015: val_acc did not improve from 0.85809\n",
      "Epoch 16/20\n",
      "129037/129037 [==============================] - 607s 5ms/step - loss: 0.0150 - categorical_crossentropy: 0.0150 - acc: 0.9953 - val_loss: 1.0445 - val_categorical_crossentropy: 1.0445 - val_acc: 0.8598\n",
      "\n",
      "Epoch 00016: val_acc improved from 0.85809 to 0.85980, saving model to LSTM_Multi_Paper_best_weights_SW_NoEmb.16-0.8598.hdf5\n",
      "Epoch 17/20\n",
      "129037/129037 [==============================] - 614s 5ms/step - loss: 0.0132 - categorical_crossentropy: 0.0132 - acc: 0.9958 - val_loss: 1.1009 - val_categorical_crossentropy: 1.1009 - val_acc: 0.8576\n",
      "\n",
      "Epoch 00017: val_acc did not improve from 0.85980\n",
      "Epoch 18/20\n",
      "129037/129037 [==============================] - 623s 5ms/step - loss: 0.0150 - categorical_crossentropy: 0.0150 - acc: 0.9956 - val_loss: 0.9962 - val_categorical_crossentropy: 0.9962 - val_acc: 0.8578\n",
      "\n",
      "Epoch 00018: val_acc did not improve from 0.85980\n",
      "Epoch 19/20\n",
      "129037/129037 [==============================] - 620s 5ms/step - loss: 0.0109 - categorical_crossentropy: 0.0109 - acc: 0.9968 - val_loss: 1.0731 - val_categorical_crossentropy: 1.0731 - val_acc: 0.8582\n",
      "\n",
      "Epoch 00019: val_acc did not improve from 0.85980\n",
      "Epoch 20/20\n",
      "129037/129037 [==============================] - 617s 5ms/step - loss: 0.0126 - categorical_crossentropy: 0.0126 - acc: 0.9961 - val_loss: 1.0375 - val_categorical_crossentropy: 1.0375 - val_acc: 0.8619\n",
      "\n",
      "Epoch 00020: val_acc improved from 0.85980 to 0.86190, saving model to LSTM_Multi_Paper_best_weights_SW_NoEmb.20-0.8619.hdf5\n"
     ]
    }
   ],
   "source": [
    "#Train the model\n",
    "from keras.callbacks import ModelCheckpoint\n",
    "filepath=\"LSTM_Multi_Paper_best_weights_SW_NoEmb.{epoch:02d}-{val_acc:.4f}.hdf5\"\n",
    "checkpoint = ModelCheckpoint(filepath, monitor='val_acc', verbose=1, save_best_only=True, mode='max')\n",
    "model.fit(X_train_seq, y_train_dummy, batch_size=32, epochs=num_epochs,\n",
    "                     validation_data=(X_val_seq, y_val_dummy), callbacks = [checkpoint])\n",
    "model_no_emb = model\n",
    "#model_no_emb.save('LSTM_Multi_Paper_best_weights_NoEmb-Full.h5')\n"
   ]
  },
  {
   "cell_type": "code",
   "execution_count": 23,
   "metadata": {},
   "outputs": [],
   "source": [
    "#Create a copy of the model\n",
    "model_no_emb = model"
   ]
  },
  {
   "cell_type": "code",
   "execution_count": 25,
   "metadata": {
    "scrolled": true
   },
   "outputs": [
    {
     "name": "stdout",
     "output_type": "stream",
     "text": [
      "53766/53766 [==============================] - 74s 1ms/step\n",
      "\n",
      "Loss, accuracy on test data: \n",
      "1.0513 86.17%\n"
     ]
    }
   ],
   "source": [
    "#Print the accuracy and loss\n",
    "np.set_printoptions(precision=4, suppress=True)\n",
    "eval_results = model_no_emb.evaluate(X_test_seq, y_test_dummy) \n",
    "print(\"\\nLoss, accuracy on test data: \")\n",
    "print(\"%0.4f %0.2f%%\" % (eval_results[0], \\\n",
    "  eval_results[2]*100))"
   ]
  },
  {
   "cell_type": "code",
   "execution_count": 26,
   "metadata": {},
   "outputs": [],
   "source": [
    "#Save the model\n",
    "#model_no_emb.save('LSTM_Multi_Paper_best_weights_NoEmb-Full.h5')"
   ]
  },
  {
   "cell_type": "code",
   "execution_count": 27,
   "metadata": {},
   "outputs": [],
   "source": [
    "# NN plotting function. Based on https://realpython.com/python-keras-text-classification/\n",
    "import matplotlib.pyplot as plt\n",
    "\n",
    "def plot_history(mod):\n",
    "    acc = mod.history.history['acc']\n",
    "    val_acc = mod.history.history['val_acc']\n",
    "    loss = mod.history.history['loss']\n",
    "    val_loss = mod.history.history['val_loss']\n",
    "    x = range(1, len(acc) + 1)\n",
    "\n",
    "    plt.figure(figsize=(18, 10))\n",
    "    plt.subplot(1, 2, 1)\n",
    "    plt.plot(x, acc, 'b', label='Training accuracy')\n",
    "    plt.plot(x, val_acc, 'r', label='Validation accuracy')\n",
    "    plt.title('Training and Validation Accuracy')\n",
    "    plt.ylabel('Accuracy')\n",
    "    plt.xlabel('Epoch')\n",
    "    plt.legend(loc = 'best')\n",
    "    plt.subplot(1, 2, 2)\n",
    "    plt.plot(x, loss, 'b', label='Training Loss')\n",
    "    plt.plot(x, val_loss, 'r', label='Validation Loss')\n",
    "    plt.title('Training and Validation Loss')\n",
    "    plt.ylabel('Loss')\n",
    "    plt.xlabel('Epoch')\n",
    "    plt.legend(loc = 'best')"
   ]
  },
  {
   "cell_type": "code",
   "execution_count": 28,
   "metadata": {},
   "outputs": [
    {
     "ename": "AttributeError",
     "evalue": "'Model' object has no attribute 'history'",
     "output_type": "error",
     "traceback": [
      "\u001b[1;31m---------------------------------------------------------------------------\u001b[0m",
      "\u001b[1;31mAttributeError\u001b[0m                            Traceback (most recent call last)",
      "\u001b[1;32m<ipython-input-28-29e36fc43a60>\u001b[0m in \u001b[0;36m<module>\u001b[1;34m\u001b[0m\n\u001b[1;32m----> 1\u001b[1;33m \u001b[0mplot_history\u001b[0m\u001b[1;33m(\u001b[0m\u001b[0mmodel_no_emb\u001b[0m\u001b[1;33m)\u001b[0m\u001b[1;33m\u001b[0m\u001b[1;33m\u001b[0m\u001b[0m\n\u001b[0m\u001b[0;32m      2\u001b[0m \u001b[1;31m# model.history.history['acc']\u001b[0m\u001b[1;33m\u001b[0m\u001b[1;33m\u001b[0m\u001b[1;33m\u001b[0m\u001b[0m\n",
      "\u001b[1;32m<ipython-input-27-b6b47e507bb8>\u001b[0m in \u001b[0;36mplot_history\u001b[1;34m(mod)\u001b[0m\n\u001b[0;32m      5\u001b[0m \u001b[1;33m\u001b[0m\u001b[0m\n\u001b[0;32m      6\u001b[0m \u001b[1;32mdef\u001b[0m \u001b[0mplot_history\u001b[0m\u001b[1;33m(\u001b[0m\u001b[0mmod\u001b[0m\u001b[1;33m)\u001b[0m\u001b[1;33m:\u001b[0m\u001b[1;33m\u001b[0m\u001b[1;33m\u001b[0m\u001b[0m\n\u001b[1;32m----> 7\u001b[1;33m     \u001b[0macc\u001b[0m \u001b[1;33m=\u001b[0m \u001b[0mmod\u001b[0m\u001b[1;33m.\u001b[0m\u001b[0mhistory\u001b[0m\u001b[1;33m.\u001b[0m\u001b[0mhistory\u001b[0m\u001b[1;33m[\u001b[0m\u001b[1;34m'acc'\u001b[0m\u001b[1;33m]\u001b[0m\u001b[1;33m\u001b[0m\u001b[1;33m\u001b[0m\u001b[0m\n\u001b[0m\u001b[0;32m      8\u001b[0m     \u001b[0mval_acc\u001b[0m \u001b[1;33m=\u001b[0m \u001b[0mmod\u001b[0m\u001b[1;33m.\u001b[0m\u001b[0mhistory\u001b[0m\u001b[1;33m.\u001b[0m\u001b[0mhistory\u001b[0m\u001b[1;33m[\u001b[0m\u001b[1;34m'val_acc'\u001b[0m\u001b[1;33m]\u001b[0m\u001b[1;33m\u001b[0m\u001b[1;33m\u001b[0m\u001b[0m\n\u001b[0;32m      9\u001b[0m     \u001b[0mloss\u001b[0m \u001b[1;33m=\u001b[0m \u001b[0mmod\u001b[0m\u001b[1;33m.\u001b[0m\u001b[0mhistory\u001b[0m\u001b[1;33m.\u001b[0m\u001b[0mhistory\u001b[0m\u001b[1;33m[\u001b[0m\u001b[1;34m'loss'\u001b[0m\u001b[1;33m]\u001b[0m\u001b[1;33m\u001b[0m\u001b[1;33m\u001b[0m\u001b[0m\n",
      "\u001b[1;31mAttributeError\u001b[0m: 'Model' object has no attribute 'history'"
     ]
    }
   ],
   "source": [
    "#Plot the accuracy and loss\n",
    "plot_history(model_no_emb)"
   ]
  },
  {
   "cell_type": "code",
   "execution_count": 24,
   "metadata": {},
   "outputs": [],
   "source": [
    "#Pretty print confusion matrix, created by Shaypal5:\n",
    "# https://gist.github.com/shaypal5/94c53d765083101efc0240d776a23823\n",
    "import pandas as pd\n",
    "import matplotlib.pyplot as plt\n",
    "import seaborn as sns\n",
    "\n",
    "def print_confusion_matrix(confusion_matrix, class_names, figsize = (10,7), fontsize=14):\n",
    "    #Created by:\n",
    "    # Shaypal5\n",
    "    # https://gist.github.com/shaypal5/94c53d765083101efc0240d776a23823\n",
    "    \"\"\"Prints a confusion matrix, as returned by sklearn.metrics.confusion_matrix, as a heatmap.\n",
    "    \n",
    "    Arguments\n",
    "    ---------\n",
    "    confusion_matrix: numpy.ndarray\n",
    "        The numpy.ndarray object returned from a call to sklearn.metrics.confusion_matrix. \n",
    "        Similarly constructed ndarrays can also be used.\n",
    "    class_names: list\n",
    "        An ordered list of class names, in the order they index the given confusion matrix.\n",
    "    figsize: tuple\n",
    "        A 2-long tuple, the first value determining the horizontal size of the ouputted figure,\n",
    "        the second determining the vertical size. Defaults to (10,7).print(pd.DataFrame(y_train).head())\n",
    "    fontsize: int\n",
    "        Font size for axes labels. Defaults to 14.\n",
    "        \n",
    "    Returns\n",
    "    -------\n",
    "    matplotlib.figure.Figure\n",
    "        The resulting confusion matrix figure\n",
    "    \"\"\"\n",
    "    df_cm = pd.DataFrame(\n",
    "        confusion_matrix, index=class_names, columns=class_names, \n",
    "    )\n",
    "    fig = plt.figure(figsize=figsize)\n",
    "    try:\n",
    "        heatmap = sns.heatmap(df_cm, annot=True, fmt=\"d\")\n",
    "    except ValueError:\n",
    "        raise ValueError(\"Confusion matrix values must be integers.\")\n",
    "    heatmap.yaxis.set_ticklabels(heatmap.yaxis.get_ticklabels(), rotation=0, ha='right', fontsize=fontsize)\n",
    "    heatmap.xaxis.set_ticklabels(heatmap.xaxis.get_ticklabels(), rotation=45, ha='right', fontsize=fontsize)\n",
    "    plt.ylabel('True label')\n",
    "    plt.xlabel('Predicted label')\n",
    "    return fig"
   ]
  },
  {
   "cell_type": "code",
   "execution_count": 67,
   "metadata": {},
   "outputs": [
    {
     "name": "stdout",
     "output_type": "stream",
     "text": [
      "              precision    recall  f1-score   support\n",
      "\n",
      "         1.0       0.83      0.79      0.81     13497\n",
      "         2.0       0.62      0.55      0.58      4829\n",
      "         3.0       0.90      0.93      0.92     35440\n",
      "\n",
      "   micro avg       0.86      0.86      0.86     53766\n",
      "   macro avg       0.78      0.76      0.77     53766\n",
      "weighted avg       0.86      0.86      0.86     53766\n",
      "\n"
     ]
    },
    {
     "data": {
      "image/png": "[encoded data removed]",
      "text/plain": [
       "<Figure size 720x504 with 2 Axes>"
      ]
     },
     "metadata": {
      "needs_background": "light"
     },
     "output_type": "display_data"
    }
   ],
   "source": [
    "#Print the classification report and the confusion pmatrix\n",
    "from sklearn.metrics import classification_report\n",
    "from sklearn import metrics\n",
    "y_predict = model.predict(X_test_seq)\n",
    "y_pred = np.zeros_like(y_predict)\n",
    "y_pred[np.arange(len(y_predict)), y_predict.argmax(1)] = 1\n",
    "\n",
    "r,_ = y_pred.shape\n",
    "\n",
    "y_p = np.zeros(r)\n",
    "y_t = np.zeros(r)\n",
    "\n",
    "for i in range(r):\n",
    "    y_p[i] = 1*y_pred[i][0] + 2*y_pred[i][1] + 3*y_pred[i][2]\n",
    "    y_t[i] = 1*y_test_dummy[i][0] + 2*y_test_dummy[i][1] + 3*y_test_dummy[i][2]\n",
    "\n",
    "\n",
    "\n",
    "print(classification_report(y_t,y_p))\n",
    "fig = print_confusion_matrix(metrics.confusion_matrix(y_t,y_p),['Negative', 'Neutral', 'Positive'])"
   ]
  },
  {
   "cell_type": "markdown",
   "metadata": {},
   "source": [
    "# With Non-trainable GloVe Embedding"
   ]
  },
  {
   "cell_type": "code",
   "execution_count": 27,
   "metadata": {},
   "outputs": [],
   "source": [
    "EMBEDDING_DIM=100\n",
    "word_index = tokenizer.word_index"
   ]
  },
  {
   "cell_type": "code",
   "execution_count": 28,
   "metadata": {},
   "outputs": [
    {
     "name": "stdout",
     "output_type": "stream",
     "text": [
      "Found 400000 word vectors.\n"
     ]
    }
   ],
   "source": [
    "#Compute an index mapping\n",
    "embeddings_index = {}\n",
    "f = open(os.path.join(data_dir, 'glove.6B.100d.txt'), encoding=\"utf8\")\n",
    "for line in f:\n",
    "    values = line.split()\n",
    "    word = values[0]\n",
    "    coefs = np.asarray(values[1:], dtype='float32')\n",
    "    embeddings_index[word] = coefs\n",
    "f.close()\n",
    "\n",
    "print('Found %s word vectors.' % len(embeddings_index))"
   ]
  },
  {
   "cell_type": "code",
   "execution_count": 29,
   "metadata": {},
   "outputs": [],
   "source": [
    "#Create the embedding matrix\n",
    "embedding_matrix = np.zeros((len(word_index) + 1, EMBEDDING_DIM))\n",
    "for word, i in word_index.items():\n",
    "    embedding_vector = embeddings_index.get(word)\n",
    "    if embedding_vector is not None:\n",
    "        # words not found in embedding index will be all-zeros.\n",
    "        embedding_matrix[i] = embedding_vector"
   ]
  },
  {
   "cell_type": "code",
   "execution_count": 31,
   "metadata": {},
   "outputs": [
    {
     "name": "stdout",
     "output_type": "stream",
     "text": [
      "_________________________________________________________________\n",
      "Layer (type)                 Output Shape              Param #   \n",
      "=================================================================\n",
      "input_2 (InputLayer)         (None, 1000)              0         \n",
      "_________________________________________________________________\n",
      "embedding_2 (Embedding)      (None, 1000, 100)         4520000   \n",
      "_________________________________________________________________\n",
      "cu_dnnlstm_1 (CuDNNLSTM)     (None, 1000, 200)         241600    \n",
      "_________________________________________________________________\n",
      "cu_dnnlstm_2 (CuDNNLSTM)     (None, 200)               321600    \n",
      "_________________________________________________________________\n",
      "dropout_1 (Dropout)          (None, 200)               0         \n",
      "_________________________________________________________________\n",
      "dense_1 (Dense)              (None, 3)                 603       \n",
      "=================================================================\n",
      "Total params: 5,083,803\n",
      "Trainable params: 563,803\n",
      "Non-trainable params: 4,520,000\n",
      "_________________________________________________________________\n"
     ]
    }
   ],
   "source": [
    "#Create the model\n",
    "from keras.models import Sequential\n",
    "from keras.layers import Dense, Dropout\n",
    "from keras.layers import Flatten\n",
    "from keras.layers.embeddings import Embedding\n",
    "from keras.layers import Conv1D, GlobalMaxPooling1D\n",
    "#----------------------\n",
    "from keras.layers import Input, Dense, concatenate, Activation, LSTM, CuDNNLSTM\n",
    "from keras.models import Model\n",
    "\n",
    "drugs_input = Input(shape=(mxlen,), dtype='int32')\n",
    "\n",
    "drugs_encoder = Embedding(len(word_index) + 1, EMBEDDING_DIM, weights=[embedding_matrix], input_length=mxlen, trainable=False)(drugs_input)\n",
    "drugs_lstm=(CuDNNLSTM(200, return_sequences=True))(drugs_encoder)\n",
    "drugs_lstm=(CuDNNLSTM(200))(drugs_lstm)\n",
    "drugs_lstm=(Dropout(0.5))(drugs_lstm)\n",
    "output = (Dense(3, activation='softmax'))(drugs_lstm)\n",
    "model = Model(inputs=[drugs_input], outputs=[output])\n",
    "\n",
    "model.compile(loss='categorical_crossentropy',\n",
    "                  optimizer='adam',\n",
    "                  metrics=['categorical_crossentropy', 'accuracy'])\n",
    "model.summary()"
   ]
  },
  {
   "cell_type": "code",
   "execution_count": 32,
   "metadata": {
    "scrolled": true
   },
   "outputs": [
    {
     "name": "stdout",
     "output_type": "stream",
     "text": [
      "Train on 129037 samples, validate on 32260 samples\n",
      "Epoch 1/20\n",
      "129037/129037 [==============================] - 900s 7ms/step - loss: 0.6579 - categorical_crossentropy: 0.6579 - acc: 0.7435 - val_loss: 0.5906 - val_categorical_crossentropy: 0.5906 - val_acc: 0.7722\n",
      "\n",
      "Epoch 00001: val_acc improved from -inf to 0.77219, saving model to LSTM_Multi_Paper_best_weights_NoTrainEmb.01-0.7722.hdf5\n",
      "Epoch 2/20\n",
      "129037/129037 [==============================] - 1099s 9ms/step - loss: 0.5517 - categorical_crossentropy: 0.5517 - acc: 0.7897 - val_loss: 0.5262 - val_categorical_crossentropy: 0.5262 - val_acc: 0.8000\n",
      "\n",
      "Epoch 00002: val_acc improved from 0.77219 to 0.79997, saving model to LSTM_Multi_Paper_best_weights_NoTrainEmb.02-0.8000.hdf5\n",
      "Epoch 3/20\n",
      "129037/129037 [==============================] - 492s 4ms/step - loss: 0.5060 - categorical_crossentropy: 0.5060 - acc: 0.8074 - val_loss: 0.5194 - val_categorical_crossentropy: 0.5194 - val_acc: 0.8060\n",
      "\n",
      "Epoch 00003: val_acc improved from 0.79997 to 0.80598, saving model to LSTM_Multi_Paper_best_weights_NoTrainEmb.03-0.8060.hdf5\n",
      "Epoch 4/20\n",
      "129037/129037 [==============================] - 498s 4ms/step - loss: 0.4496 - categorical_crossentropy: 0.4496 - acc: 0.8289 - val_loss: 0.5000 - val_categorical_crossentropy: 0.5000 - val_acc: 0.8141\n",
      "\n",
      "Epoch 00004: val_acc improved from 0.80598 to 0.81414, saving model to LSTM_Multi_Paper_best_weights_NoTrainEmb.04-0.8141.hdf5\n",
      "Epoch 5/20\n",
      "129037/129037 [==============================] - 484s 4ms/step - loss: 0.4099 - categorical_crossentropy: 0.4099 - acc: 0.8431 - val_loss: 0.4941 - val_categorical_crossentropy: 0.4941 - val_acc: 0.8160\n",
      "\n",
      "Epoch 00005: val_acc improved from 0.81414 to 0.81603, saving model to LSTM_Multi_Paper_best_weights_NoTrainEmb.05-0.8160.hdf5\n",
      "Epoch 6/20\n",
      "129037/129037 [==============================] - 479s 4ms/step - loss: 0.3531 - categorical_crossentropy: 0.3531 - acc: 0.8651 - val_loss: 0.5120 - val_categorical_crossentropy: 0.5120 - val_acc: 0.8234\n",
      "\n",
      "Epoch 00006: val_acc improved from 0.81603 to 0.82337, saving model to LSTM_Multi_Paper_best_weights_NoTrainEmb.06-0.8234.hdf5\n",
      "Epoch 7/20\n",
      "129037/129037 [==============================] - 470s 4ms/step - loss: 0.3026 - categorical_crossentropy: 0.3026 - acc: 0.8850 - val_loss: 0.5020 - val_categorical_crossentropy: 0.5020 - val_acc: 0.8251\n",
      "\n",
      "Epoch 00007: val_acc improved from 0.82337 to 0.82511, saving model to LSTM_Multi_Paper_best_weights_NoTrainEmb.07-0.8251.hdf5\n",
      "Epoch 8/20\n",
      "129037/129037 [==============================] - 470s 4ms/step - loss: 0.2548 - categorical_crossentropy: 0.2548 - acc: 0.9041 - val_loss: 0.5362 - val_categorical_crossentropy: 0.5362 - val_acc: 0.8322\n",
      "\n",
      "Epoch 00008: val_acc improved from 0.82511 to 0.83218, saving model to LSTM_Multi_Paper_best_weights_NoTrainEmb.08-0.8322.hdf5\n",
      "Epoch 9/20\n",
      "129037/129037 [==============================] - 468s 4ms/step - loss: 0.2114 - categorical_crossentropy: 0.2114 - acc: 0.9211 - val_loss: 0.5480 - val_categorical_crossentropy: 0.5480 - val_acc: 0.8287\n",
      "\n",
      "Epoch 00009: val_acc did not improve from 0.83218\n",
      "Epoch 10/20\n",
      "129037/129037 [==============================] - 473s 4ms/step - loss: 0.1785 - categorical_crossentropy: 0.1785 - acc: 0.9338 - val_loss: 0.5731 - val_categorical_crossentropy: 0.5731 - val_acc: 0.8410\n",
      "\n",
      "Epoch 00010: val_acc improved from 0.83218 to 0.84104, saving model to LSTM_Multi_Paper_best_weights_NoTrainEmb.10-0.8410.hdf5\n",
      "Epoch 11/20\n",
      "129037/129037 [==============================] - 475s 4ms/step - loss: 0.1468 - categorical_crossentropy: 0.1468 - acc: 0.9464 - val_loss: 0.6075 - val_categorical_crossentropy: 0.6075 - val_acc: 0.8500\n",
      "\n",
      "Epoch 00011: val_acc improved from 0.84104 to 0.85000, saving model to LSTM_Multi_Paper_best_weights_NoTrainEmb.11-0.8500.hdf5\n",
      "Epoch 12/20\n",
      "129037/129037 [==============================] - 483s 4ms/step - loss: 0.1275 - categorical_crossentropy: 0.1275 - acc: 0.9540 - val_loss: 0.6488 - val_categorical_crossentropy: 0.6488 - val_acc: 0.8504\n",
      "\n",
      "Epoch 00012: val_acc improved from 0.85000 to 0.85043, saving model to LSTM_Multi_Paper_best_weights_NoTrainEmb.12-0.8504.hdf5\n",
      "Epoch 13/20\n",
      "129037/129037 [==============================] - 469s 4ms/step - loss: 0.1135 - categorical_crossentropy: 0.1135 - acc: 0.9603 - val_loss: 0.6404 - val_categorical_crossentropy: 0.6404 - val_acc: 0.8556\n",
      "\n",
      "Epoch 00013: val_acc improved from 0.85043 to 0.85561, saving model to LSTM_Multi_Paper_best_weights_NoTrainEmb.13-0.8556.hdf5\n",
      "Epoch 14/20\n",
      "129037/129037 [==============================] - 470s 4ms/step - loss: 0.0989 - categorical_crossentropy: 0.0989 - acc: 0.9650 - val_loss: 0.7001 - val_categorical_crossentropy: 0.7001 - val_acc: 0.8584\n",
      "\n",
      "Epoch 00014: val_acc improved from 0.85561 to 0.85837, saving model to LSTM_Multi_Paper_best_weights_NoTrainEmb.14-0.8584.hdf5\n",
      "Epoch 15/20\n",
      "129037/129037 [==============================] - 469s 4ms/step - loss: 0.0895 - categorical_crossentropy: 0.0895 - acc: 0.9688 - val_loss: 0.7172 - val_categorical_crossentropy: 0.7172 - val_acc: 0.8575\n",
      "\n",
      "Epoch 00015: val_acc did not improve from 0.85837\n",
      "Epoch 16/20\n",
      "129037/129037 [==============================] - 468s 4ms/step - loss: 0.0816 - categorical_crossentropy: 0.0816 - acc: 0.9707 - val_loss: 0.7341 - val_categorical_crossentropy: 0.7341 - val_acc: 0.8600\n",
      "\n",
      "Epoch 00016: val_acc improved from 0.85837 to 0.85995, saving model to LSTM_Multi_Paper_best_weights_NoTrainEmb.16-0.8600.hdf5\n",
      "Epoch 17/20\n",
      "129037/129037 [==============================] - 468s 4ms/step - loss: 0.0767 - categorical_crossentropy: 0.0767 - acc: 0.9734 - val_loss: 0.7471 - val_categorical_crossentropy: 0.7471 - val_acc: 0.8639\n",
      "\n",
      "Epoch 00017: val_acc improved from 0.85995 to 0.86395, saving model to LSTM_Multi_Paper_best_weights_NoTrainEmb.17-0.8639.hdf5\n",
      "Epoch 18/20\n",
      "129037/129037 [==============================] - 469s 4ms/step - loss: 0.0724 - categorical_crossentropy: 0.0724 - acc: 0.9751 - val_loss: 0.7790 - val_categorical_crossentropy: 0.7790 - val_acc: 0.8658\n",
      "\n",
      "Epoch 00018: val_acc improved from 0.86395 to 0.86581, saving model to LSTM_Multi_Paper_best_weights_NoTrainEmb.18-0.8658.hdf5\n",
      "Epoch 19/20\n",
      "129037/129037 [==============================] - 469s 4ms/step - loss: 0.0703 - categorical_crossentropy: 0.0703 - acc: 0.9761 - val_loss: 0.7632 - val_categorical_crossentropy: 0.7632 - val_acc: 0.8616\n",
      "\n",
      "Epoch 00019: val_acc did not improve from 0.86581\n",
      "Epoch 20/20\n",
      "129037/129037 [==============================] - 470s 4ms/step - loss: 0.0670 - categorical_crossentropy: 0.0670 - acc: 0.9773 - val_loss: 0.7550 - val_categorical_crossentropy: 0.7550 - val_acc: 0.8601\n",
      "\n",
      "Epoch 00020: val_acc did not improve from 0.86581\n"
     ]
    },
    {
     "data": {
      "text/plain": [
       "<keras.callbacks.History at 0x281d0e3df28>"
      ]
     },
     "execution_count": 32,
     "metadata": {},
     "output_type": "execute_result"
    }
   ],
   "source": [
    "#Train the model\n",
    "from keras.callbacks import ModelCheckpoint\n",
    "filepath=\"LSTM_Multi_Paper_best_weights_NoTrainEmb.{epoch:02d}-{val_acc:.4f}.hdf5\"\n",
    "checkpoint = ModelCheckpoint(filepath, monitor='val_acc', verbose=1, save_best_only=True, mode='max')\n",
    "model.fit(X_train_seq, y_train_dummy, batch_size=32, epochs=num_epochs,\n",
    "                     validation_data=(X_val_seq, y_val_dummy), callbacks = [checkpoint])"
   ]
  },
  {
   "cell_type": "code",
   "execution_count": 67,
   "metadata": {},
   "outputs": [],
   "source": [
    "#Create a copy of the model and save it\n",
    "model_no_train_emb = model\n",
    "#model_no_train_emb.save('LSTM_Multi_Paper_best_weights_TrainEmb-Full.h5')"
   ]
  },
  {
   "cell_type": "code",
   "execution_count": 69,
   "metadata": {},
   "outputs": [
    {
     "name": "stdout",
     "output_type": "stream",
     "text": [
      "53766/53766 [==============================] - 71s 1ms/step\n",
      "\n",
      "Loss, accuracy on test data: \n",
      "1.0746 86.53%\n"
     ]
    }
   ],
   "source": [
    "#Print the accuracy and loss\n",
    "np.set_printoptions(precision=4, suppress=True)\n",
    "eval_results = model_no_train_emb.evaluate(X_test_seq, y_test_dummy) \n",
    "print(\"\\nLoss, accuracy on test data: \")\n",
    "print(\"%0.4f %0.2f%%\" % (eval_results[0], \\\n",
    "  eval_results[2]*100))"
   ]
  },
  {
   "cell_type": "code",
   "execution_count": null,
   "metadata": {},
   "outputs": [],
   "source": [
    "#Plot the accuracy and loss\n",
    "plot_history(model_no_train_emb)"
   ]
  },
  {
   "cell_type": "code",
   "execution_count": 36,
   "metadata": {},
   "outputs": [
    {
     "name": "stdout",
     "output_type": "stream",
     "text": [
      "              precision    recall  f1-score   support\n",
      "\n",
      "         1.0       0.81      0.81      0.81     13497\n",
      "         2.0       0.58      0.53      0.55      4829\n",
      "         3.0       0.91      0.93      0.92     35440\n",
      "\n",
      "   micro avg       0.86      0.86      0.86     53766\n",
      "   macro avg       0.77      0.75      0.76     53766\n",
      "weighted avg       0.86      0.86      0.86     53766\n",
      "\n"
     ]
    },
    {
     "data": {
      "image/png": "[encoded data removed]",
      "text/plain": [
       "<Figure size 720x504 with 2 Axes>"
      ]
     },
     "metadata": {
      "needs_background": "light"
     },
     "output_type": "display_data"
    }
   ],
   "source": [
    "#Print the classification report and the confusion matrix\n",
    "from sklearn.metrics import classification_report\n",
    "from sklearn import metrics\n",
    "y_predict = model.predict(X_test_seq)\n",
    "y_pred = np.zeros_like(y_predict)\n",
    "y_pred[np.arange(len(y_predict)), y_predict.argmax(1)] = 1\n",
    "\n",
    "r,_ = y_pred.shape\n",
    "\n",
    "y_p = np.zeros(r)\n",
    "y_t = np.zeros(r)\n",
    "\n",
    "for i in range(r):\n",
    "    y_p[i] = 1*y_pred[i][0] + 2*y_pred[i][1] + 3*y_pred[i][2]\n",
    "    y_t[i] = 1*y_test_dummy[i][0] + 2*y_test_dummy[i][1] + 3*y_test_dummy[i][2]\n",
    "\n",
    "\n",
    "\n",
    "print(classification_report(y_t,y_p))\n",
    "# print('Confusion Matrix:')\n",
    "# print(metrics.confusion_matrix(y_test,y_pred))\n",
    "\n",
    "###########Ojo este orden no es de las labels\n",
    "fig = print_confusion_matrix(metrics.confusion_matrix(y_t,y_p),['Negative', 'Neutral', 'Positive'])\n"
   ]
  },
  {
   "cell_type": "markdown",
   "metadata": {},
   "source": [
    "# With Trainable GloVe Embedding"
   ]
  },
  {
   "cell_type": "code",
   "execution_count": 38,
   "metadata": {},
   "outputs": [
    {
     "name": "stdout",
     "output_type": "stream",
     "text": [
      "_________________________________________________________________\n",
      "Layer (type)                 Output Shape              Param #   \n",
      "=================================================================\n",
      "input_3 (InputLayer)         (None, 1000)              0         \n",
      "_________________________________________________________________\n",
      "embedding_3 (Embedding)      (None, 1000, 100)         4520000   \n",
      "_________________________________________________________________\n",
      "cu_dnnlstm_3 (CuDNNLSTM)     (None, 1000, 200)         241600    \n",
      "_________________________________________________________________\n",
      "cu_dnnlstm_4 (CuDNNLSTM)     (None, 200)               321600    \n",
      "_________________________________________________________________\n",
      "dropout_2 (Dropout)          (None, 200)               0         \n",
      "_________________________________________________________________\n",
      "dense_2 (Dense)              (None, 3)                 603       \n",
      "=================================================================\n",
      "Total params: 5,083,803\n",
      "Trainable params: 5,083,803\n",
      "Non-trainable params: 0\n",
      "_________________________________________________________________\n"
     ]
    }
   ],
   "source": [
    "#Create the model:\n",
    "from keras.models import Sequential\n",
    "from keras.layers import Dense, Dropout\n",
    "from keras.layers import Flatten\n",
    "from keras.layers.embeddings import Embedding\n",
    "from keras.layers import Conv1D, GlobalMaxPooling1D\n",
    "#----------------------\n",
    "from keras.layers import Input, Dense, concatenate, Activation\n",
    "from keras.models import Model\n",
    "\n",
    "drugs_input = Input(shape=(mxlen,), dtype='int32')\n",
    "\n",
    "drugs_encoder = Embedding(len(word_index) + 1, EMBEDDING_DIM, weights=[embedding_matrix], input_length=mxlen, trainable=True)(drugs_input)\n",
    "drugs_lstm=(CuDNNLSTM(200, return_sequences=True))(drugs_encoder)\n",
    "drugs_lstm=(CuDNNLSTM(200))(drugs_lstm)\n",
    "drugs_lstm=(Dropout(0.5))(drugs_lstm)\n",
    "output = (Dense(3, activation='softmax'))(drugs_lstm)\n",
    "model = Model(inputs=[drugs_input], outputs=[output])\n",
    "model.compile(loss='categorical_crossentropy',\n",
    "                  optimizer='adam',\n",
    "                  metrics=['categorical_crossentropy', 'accuracy'])\n",
    "model.summary()"
   ]
  },
  {
   "cell_type": "code",
   "execution_count": 39,
   "metadata": {
    "scrolled": true
   },
   "outputs": [
    {
     "name": "stdout",
     "output_type": "stream",
     "text": [
      "Train on 129037 samples, validate on 32260 samples\n",
      "Epoch 1/20\n",
      "129037/129037 [==============================] - 488s 4ms/step - loss: 0.5862 - categorical_crossentropy: 0.5862 - acc: 0.7779 - val_loss: 0.5216 - val_categorical_crossentropy: 0.5216 - val_acc: 0.8053\n",
      "\n",
      "Epoch 00001: val_acc improved from -inf to 0.80533, saving model to LSTM_Multi_Paper_best_weights_SW_TrainEmb.01-0.8053.hdf5\n",
      "Epoch 2/20\n",
      "129037/129037 [==============================] - 491s 4ms/step - loss: 0.4519 - categorical_crossentropy: 0.4519 - acc: 0.8288 - val_loss: 0.4815 - val_categorical_crossentropy: 0.4815 - val_acc: 0.8178\n",
      "\n",
      "Epoch 00002: val_acc improved from 0.80533 to 0.81782, saving model to LSTM_Multi_Paper_best_weights_SW_TrainEmb.02-0.8178.hdf5\n",
      "Epoch 3/20\n",
      "129037/129037 [==============================] - 495s 4ms/step - loss: 0.3609 - categorical_crossentropy: 0.3609 - acc: 0.8655 - val_loss: 0.4620 - val_categorical_crossentropy: 0.4620 - val_acc: 0.8301\n",
      "\n",
      "Epoch 00003: val_acc improved from 0.81782 to 0.83007, saving model to LSTM_Multi_Paper_best_weights_SW_TrainEmb.03-0.8301.hdf5\n",
      "Epoch 4/20\n",
      "129037/129037 [==============================] - 494s 4ms/step - loss: 0.2672 - categorical_crossentropy: 0.2672 - acc: 0.9032 - val_loss: 0.5135 - val_categorical_crossentropy: 0.5135 - val_acc: 0.8353\n",
      "\n",
      "Epoch 00004: val_acc improved from 0.83007 to 0.83531, saving model to LSTM_Multi_Paper_best_weights_SW_TrainEmb.04-0.8353.hdf5\n",
      "Epoch 5/20\n",
      "129037/129037 [==============================] - 493s 4ms/step - loss: 0.1930 - categorical_crossentropy: 0.1930 - acc: 0.9316 - val_loss: 0.5465 - val_categorical_crossentropy: 0.5465 - val_acc: 0.8493\n",
      "\n",
      "Epoch 00005: val_acc improved from 0.83531 to 0.84935, saving model to LSTM_Multi_Paper_best_weights_SW_TrainEmb.05-0.8493.hdf5\n",
      "Epoch 6/20\n",
      "129037/129037 [==============================] - 493s 4ms/step - loss: 0.1389 - categorical_crossentropy: 0.1389 - acc: 0.9519 - val_loss: 0.6045 - val_categorical_crossentropy: 0.6045 - val_acc: 0.8489\n",
      "\n",
      "Epoch 00006: val_acc did not improve from 0.84935\n",
      "Epoch 7/20\n",
      "129037/129037 [==============================] - 494s 4ms/step - loss: 0.0996 - categorical_crossentropy: 0.0996 - acc: 0.9662 - val_loss: 0.6642 - val_categorical_crossentropy: 0.6642 - val_acc: 0.8573\n",
      "\n",
      "Epoch 00007: val_acc improved from 0.84935 to 0.85728, saving model to LSTM_Multi_Paper_best_weights_SW_TrainEmb.07-0.8573.hdf5\n",
      "Epoch 8/20\n",
      "129037/129037 [==============================] - 492s 4ms/step - loss: 0.0709 - categorical_crossentropy: 0.0709 - acc: 0.9757 - val_loss: 0.7303 - val_categorical_crossentropy: 0.7303 - val_acc: 0.8581\n",
      "\n",
      "Epoch 00008: val_acc improved from 0.85728 to 0.85809, saving model to LSTM_Multi_Paper_best_weights_SW_TrainEmb.08-0.8581.hdf5\n",
      "Epoch 9/20\n",
      "129037/129037 [==============================] - 493s 4ms/step - loss: 0.0534 - categorical_crossentropy: 0.0534 - acc: 0.9822 - val_loss: 0.7665 - val_categorical_crossentropy: 0.7665 - val_acc: 0.8645\n",
      "\n",
      "Epoch 00009: val_acc improved from 0.85809 to 0.86454, saving model to LSTM_Multi_Paper_best_weights_SW_TrainEmb.09-0.8645.hdf5\n",
      "Epoch 10/20\n",
      "129037/129037 [==============================] - 493s 4ms/step - loss: 0.0404 - categorical_crossentropy: 0.0404 - acc: 0.9866 - val_loss: 0.9513 - val_categorical_crossentropy: 0.9513 - val_acc: 0.8612\n",
      "\n",
      "Epoch 00010: val_acc did not improve from 0.86454\n",
      "Epoch 11/20\n",
      "129037/129037 [==============================] - 492s 4ms/step - loss: 0.0346 - categorical_crossentropy: 0.0346 - acc: 0.9887 - val_loss: 0.8938 - val_categorical_crossentropy: 0.8938 - val_acc: 0.8602\n",
      "\n",
      "Epoch 00011: val_acc did not improve from 0.86454\n",
      "Epoch 12/20\n",
      "129037/129037 [==============================] - 495s 4ms/step - loss: 0.0287 - categorical_crossentropy: 0.0287 - acc: 0.9907 - val_loss: 0.9162 - val_categorical_crossentropy: 0.9162 - val_acc: 0.8661\n",
      "\n",
      "Epoch 00012: val_acc improved from 0.86454 to 0.86606, saving model to LSTM_Multi_Paper_best_weights_SW_TrainEmb.12-0.8661.hdf5\n",
      "Epoch 13/20\n",
      "129037/129037 [==============================] - 491s 4ms/step - loss: 0.0250 - categorical_crossentropy: 0.0250 - acc: 0.9917 - val_loss: 0.8902 - val_categorical_crossentropy: 0.8902 - val_acc: 0.8634\n",
      "\n",
      "Epoch 00013: val_acc did not improve from 0.86606\n",
      "Epoch 14/20\n",
      "129037/129037 [==============================] - 16667s 129ms/step - loss: 0.0222 - categorical_crossentropy: 0.0222 - acc: 0.9928 - val_loss: 0.9202 - val_categorical_crossentropy: 0.9202 - val_acc: 0.8618\n",
      "\n",
      "Epoch 00014: val_acc did not improve from 0.86606\n",
      "Epoch 15/20\n",
      "129037/129037 [==============================] - 528s 4ms/step - loss: 0.0191 - categorical_crossentropy: 0.0191 - acc: 0.9940 - val_loss: 0.9054 - val_categorical_crossentropy: 0.9054 - val_acc: 0.8651\n",
      "\n",
      "Epoch 00015: val_acc did not improve from 0.86606\n",
      "Epoch 16/20\n",
      "129037/129037 [==============================] - 510s 4ms/step - loss: 0.0170 - categorical_crossentropy: 0.0170 - acc: 0.9946 - val_loss: 1.0020 - val_categorical_crossentropy: 1.0020 - val_acc: 0.8678\n",
      "\n",
      "Epoch 00016: val_acc improved from 0.86606 to 0.86782, saving model to LSTM_Multi_Paper_best_weights_SW_TrainEmb.16-0.8678.hdf5\n",
      "Epoch 17/20\n",
      "129037/129037 [==============================] - 503s 4ms/step - loss: 0.0161 - categorical_crossentropy: 0.0161 - acc: 0.9949 - val_loss: 0.9828 - val_categorical_crossentropy: 0.9828 - val_acc: 0.8613\n",
      "\n",
      "Epoch 00017: val_acc did not improve from 0.86782\n",
      "Epoch 18/20\n",
      "129037/129037 [==============================] - 503s 4ms/step - loss: 0.0142 - categorical_crossentropy: 0.0142 - acc: 0.9956 - val_loss: 1.0005 - val_categorical_crossentropy: 1.0005 - val_acc: 0.8536\n",
      "\n",
      "Epoch 00018: val_acc did not improve from 0.86782\n",
      "Epoch 19/20\n",
      "129037/129037 [==============================] - 501s 4ms/step - loss: 0.0154 - categorical_crossentropy: 0.0154 - acc: 0.9953 - val_loss: 0.9552 - val_categorical_crossentropy: 0.9552 - val_acc: 0.8661\n",
      "\n",
      "Epoch 00019: val_acc did not improve from 0.86782\n",
      "Epoch 20/20\n",
      "129037/129037 [==============================] - 499s 4ms/step - loss: 0.0124 - categorical_crossentropy: 0.0124 - acc: 0.9960 - val_loss: 1.0464 - val_categorical_crossentropy: 1.0464 - val_acc: 0.8667\n",
      "\n",
      "Epoch 00020: val_acc did not improve from 0.86782\n"
     ]
    },
    {
     "data": {
      "text/plain": [
       "<keras.callbacks.History at 0x2834a353ef0>"
      ]
     },
     "execution_count": 39,
     "metadata": {},
     "output_type": "execute_result"
    }
   ],
   "source": [
    "#Train the model\n",
    "from keras.callbacks import ModelCheckpoint\n",
    "filepath=\"LSTM_Multi_Paper_best_weights_SW_TrainEmb.{epoch:02d}-{val_acc:.4f}.hdf5\"\n",
    "checkpoint = ModelCheckpoint(filepath, monitor='val_acc', verbose=1, save_best_only=True, mode='max')\n",
    "model.fit(X_train_seq, y_train_dummy, batch_size=32, epochs=num_epochs,\n",
    "                     validation_data=(X_val_seq, y_val_dummy), callbacks = [checkpoint])"
   ]
  },
  {
   "cell_type": "code",
   "execution_count": 40,
   "metadata": {},
   "outputs": [],
   "source": [
    "#Create a copy of the model and save it\n",
    "model_train_emb = model\n",
    "#model_train_emb.save('LSTM_Multi_Paper_best_weights_TrainEmb-Full.h5')"
   ]
  },
  {
   "cell_type": "code",
   "execution_count": 42,
   "metadata": {},
   "outputs": [
    {
     "data": {
      "image/png": "[encoded data removed]",
      "text/plain": [
       "<Figure size 1296x720 with 2 Axes>"
      ]
     },
     "metadata": {
      "needs_background": "light"
     },
     "output_type": "display_data"
    }
   ],
   "source": [
    "#Plot the accuracy and loss\n",
    "plot_history(model_train_emb)"
   ]
  },
  {
   "cell_type": "code",
   "execution_count": 67,
   "metadata": {},
   "outputs": [
    {
     "name": "stdout",
     "output_type": "stream",
     "text": [
      "53766/53766 [==============================] - 69s 1ms/step\n",
      "\n",
      "Loss, accuracy on test data: \n",
      "1.0746 86.53%\n"
     ]
    }
   ],
   "source": [
    "#Print the accuracy and loss\n",
    "np.set_printoptions(precision=4, suppress=True)\n",
    "eval_results = model_train_emb.evaluate(X_test_seq, y_test_dummy) \n",
    "print(\"\\nLoss, accuracy on test data: \")\n",
    "print(\"%0.4f %0.2f%%\" % (eval_results[0], \\\n",
    "  eval_results[2]*100))"
   ]
  },
  {
   "cell_type": "code",
   "execution_count": 44,
   "metadata": {},
   "outputs": [
    {
     "name": "stdout",
     "output_type": "stream",
     "text": [
      "              precision    recall  f1-score   support\n",
      "\n",
      "         1.0       0.81      0.82      0.82     13497\n",
      "         2.0       0.63      0.56      0.59      4829\n",
      "         3.0       0.91      0.92      0.92     35440\n",
      "\n",
      "   micro avg       0.87      0.87      0.87     53766\n",
      "   macro avg       0.78      0.77      0.78     53766\n",
      "weighted avg       0.86      0.87      0.86     53766\n",
      "\n"
     ]
    },
    {
     "data": {
      "image/png": "[encoded data removed]",
      "text/plain": [
       "<Figure size 720x504 with 2 Axes>"
      ]
     },
     "metadata": {
      "needs_background": "light"
     },
     "output_type": "display_data"
    }
   ],
   "source": [
    "#Create the classification report and confusion matrix\n",
    "from sklearn.metrics import classification_report\n",
    "from sklearn import metrics\n",
    "y_predict = model.predict(X_test_seq)\n",
    "y_pred = np.zeros_like(y_predict)\n",
    "y_pred[np.arange(len(y_predict)), y_predict.argmax(1)] = 1\n",
    "\n",
    "r,_ = y_pred.shape\n",
    "\n",
    "y_p = np.zeros(r)\n",
    "y_t = np.zeros(r)\n",
    "\n",
    "for i in range(r):\n",
    "    y_p[i] = 1*y_pred[i][0] + 2*y_pred[i][1] + 3*y_pred[i][2]\n",
    "    y_t[i] = 1*y_test_dummy[i][0] + 2*y_test_dummy[i][1] + 3*y_test_dummy[i][2]\n",
    "\n",
    "\n",
    "\n",
    "print(classification_report(y_t,y_p))\n",
    "fig = print_confusion_matrix(metrics.confusion_matrix(y_t,y_p),['Negative', 'Neutral', 'Positive'])"
   ]
  },
  {
   "cell_type": "code",
   "execution_count": null,
   "metadata": {},
   "outputs": [],
   "source": [
    "#Compare the three models\n",
    "def plot_multi_history(mod1, mod2, mod3):\n",
    "    acc=[]\n",
    "    val_acc=[]\n",
    "    acc.append(mod1.history.history['acc'])\n",
    "    val_acc.append(mod1.history.history['val_acc'])\n",
    "    \n",
    "    acc.append(mod2.history.history['acc'])\n",
    "    val_acc.append(mod2.history.history['val_acc'])\n",
    "    \n",
    "    acc.append(mod3.history.history['acc'])\n",
    "    val_acc.append(mod3.history.history['val_acc'])\n",
    "    \n",
    "\n",
    "    x = range(1, len(acc[0]) + 1)\n",
    "    models=['No GloVe', 'GloVe with Training', 'GloVe w/o Training']\n",
    "    alpha_vals=[1, 0.7, 0.6]\n",
    "    lw_vals=[3,2,1]\n",
    "    \n",
    "    plt.figure(figsize=(18, 10))\n",
    "    for mod_acc, mod, alph, line_w in zip(acc, models, alpha_vals, lw_vals):\n",
    "        plt.plot(x, mod_acc, color='r', alpha=alph, lw=line_w, label='Train Acc for ' + mod)\n",
    "    for mod_val_acc, mod, alph, line_w in zip(val_acc, models, alpha_vals, lw_vals):\n",
    "        plt.plot(x, mod_val_acc, color='b', alpha=alph, lw=line_w, label='Val Acc for ' + mod)\n",
    "    plt.title('Training and validation accuracy')\n",
    "    plt.ylabel('Accuracy')\n",
    "    plt.xlabel('Epoch')\n",
    "    plt.legend(loc='best')\n",
    "    \n",
    "plot_multi_history(model_no_emb, model_train_emb, model_no_train_emb)"
   ]
  },
  {
   "cell_type": "markdown",
   "metadata": {},
   "source": [
    "# References\n",
    "[1] Sboev, Aleksandr, et al. \"Deep Learning Network Models to Categorize Texts According to Author's Gender and to Identify Text Sentiment.\" 2016 International Conference on Computational Science and Computational Intelligence (CSCI). IEEE, 2016."
   ]
  }
 ],
 "metadata": {
  "kernelspec": {
   "display_name": "Python 3",
   "language": "python",
   "name": "python3"
  },
  "language_info": {
   "codemirror_mode": {
    "name": "ipython",
    "version": 3
   },
   "file_extension": ".py",
   "mimetype": "text/x-python",
   "name": "python",
   "nbconvert_exporter": "python",
   "pygments_lexer": "ipython3",
   "version": "3.6.8"
  }
 },
 "nbformat": 4,
 "nbformat_minor": 2
}
